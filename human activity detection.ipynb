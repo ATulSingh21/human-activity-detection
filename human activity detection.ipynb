{
 "cells": [
  {
   "cell_type": "markdown",
   "metadata": {},
   "source": [
    "__HUMAN ACTIVITY RECOGNIZATION__"
   ]
  },
  {
   "cell_type": "code",
   "execution_count": 569,
   "metadata": {},
   "outputs": [],
   "source": [
    "import pandas as pd\n",
    "import numpy as np"
   ]
  },
  {
   "cell_type": "code",
   "execution_count": 570,
   "metadata": {},
   "outputs": [],
   "source": [
    "# Activities are the class labels\n",
    "# It is a 6 class classification\n",
    "ACTIVITIES = {\n",
    "    0: 'WALKING',\n",
    "    1: 'WALKING_UPSTAIRS',\n",
    "    2: 'WALKING_DOWNSTAIRS',\n",
    "    3: 'SITTING',\n",
    "    4: 'STANDING',\n",
    "    5: 'LAYING',\n",
    "}\n",
    "\n",
    "# Utility function to print the confusion matrix\n",
    "def confusion_matrix(Y_true, Y_pred):\n",
    "    Y_true = pd.Series([ACTIVITIES[y] for y in np.argmax(Y_true, axis=1)])\n",
    "    Y_pred = pd.Series([ACTIVITIES[y] for y in np.argmax(Y_pred, axis=1)])\n",
    "\n",
    "    return pd.crosstab(Y_true, Y_pred, rownames=['True'], colnames=['Pred'])"
   ]
  },
  {
   "cell_type": "markdown",
   "metadata": {},
   "source": [
    "### Data"
   ]
  },
  {
   "cell_type": "code",
   "execution_count": 571,
   "metadata": {},
   "outputs": [],
   "source": [
    "# Raw data signals\n",
    "# Signals are from Accelerometer and Gyroscope\n",
    "# The signals are in x,y,z directions\n",
    "# Sensor signals are filtered to have only body acceleration\n",
    "# excluding the acceleration due to gravity\n",
    "# Triaxial acceleration from the accelerometer is total acceleration\n",
    "SIGNALS = [\n",
    "    \"body_acc_x\",\n",
    "    \"body_acc_y\",\n",
    "    \"body_acc_z\",\n",
    "    \"body_gyro_x\",\n",
    "    \"body_gyro_y\",\n",
    "    \"body_gyro_z\",\n",
    "    \"total_acc_x\",\n",
    "    \"total_acc_y\",\n",
    "    \"total_acc_z\"\n",
    "]"
   ]
  },
  {
   "cell_type": "code",
   "execution_count": 572,
   "metadata": {},
   "outputs": [],
   "source": [
    "from sklearn.preprocessing import StandardScaler"
   ]
  },
  {
   "cell_type": "code",
   "execution_count": 573,
   "metadata": {},
   "outputs": [],
   "source": [
    "# Utility function to read the data from csv file\n",
    "def _read_csv(filename):\n",
    "    return pd.read_csv(filename, delim_whitespace=True, header=None)\n",
    "\n",
    "# Utility function to load the load\n",
    "def load_signals():\n",
    "    signals_data_train = []\n",
    "    signals_data_test = []\n",
    "\n",
    "    for signal in SIGNALS:\n",
    "        filename_train = f'UCI_HAR_Dataset/train/Inertial Signals/{signal}_train.txt'\n",
    "        df_train =  _read_csv(filename_train)\n",
    "        # standardizing the data\n",
    "        s = StandardScaler()\n",
    "        df_train_std = s.fit_transform(df_train)\n",
    "        df_train_std_df = pd.DataFrame(df_train_std)\n",
    "        filename_test = f'UCI_HAR_Dataset/test/Inertial Signals/{signal}_test.txt'\n",
    "        df_test =  _read_csv(filename_test)\n",
    "        df_test_std = s.transform(df_test)\n",
    "        df_test_std_df = pd.DataFrame(df_test_std)\n",
    "        signals_data_train.append(df_train_std_df.values)\n",
    "        signals_data_test.append(df_test_std_df.values)\n",
    "        # Transpose is used to change the dimensionality of the output,\n",
    "    # aggregating the signals by combination of sample/timestep.\n",
    "    # Resultant shape is (7352 train/2947 test samples, 128 timesteps, 9 signals)\n",
    "    final_train = np.transpose(signals_data_train, (1, 2, 0))\n",
    "    final_test = np.transpose(signals_data_test, (1, 2, 0))\n",
    "    \n",
    "      # Transpose is used to change the dimensionality of the output,\n",
    "    # aggregating the signals by combination of sample/timestep.\n",
    "    # Resultant shape is (7352 train/2947 test samples, 128 timesteps, 9 signals)\n",
    "    return final_train, final_test"
   ]
  },
  {
   "cell_type": "code",
   "execution_count": 574,
   "metadata": {},
   "outputs": [],
   "source": [
    "def load_y_2class(subset):\n",
    "    \"\"\"\n",
    "    The objective that we are trying to predict is a integer, from 1 to 6,\n",
    "    that represents a human activity. We return a binary representation of \n",
    "    every sample objective as a 6 bits vector using One Hot Encoding\n",
    "    (https://pandas.pydata.org/pandas-docs/stable/generated/pandas.get_dummies.html)\n",
    "    \"\"\"\n",
    "    filename = f'UCI_HAR_Dataset/{subset}/y_{subset}.txt'\n",
    "    y = _read_csv(filename)[0]\n",
    "    \n",
    "    # Making Class labels for baseline classifier i.e. for all dynamic activities will be labled as 0 and static activities \\ \n",
    "    # will be labeled as 1\n",
    "    \n",
    "    y[y==1] = 0\n",
    "    y[y==2] = 0\n",
    "    y[y==3] = 0\n",
    "    y[y==4] = 1\n",
    "    y[y==5] = 1\n",
    "    y[y==6] = 1\n",
    "\n",
    "    return pd.get_dummies(y).values"
   ]
  },
  {
   "cell_type": "code",
   "execution_count": 575,
   "metadata": {},
   "outputs": [],
   "source": [
    "def load_y_static(subset):\n",
    "    \"\"\"\n",
    "    The objective that we are trying to predict is a integer, from 1 to 6,\n",
    "    that represents a human activity. We return a binary representation of \n",
    "    every sample objective as a 6 bits vector using One Hot Encoding\n",
    "    (https://pandas.pydata.org/pandas-docs/stable/generated/pandas.get_dummies.html)\n",
    "    \"\"\"\n",
    "    filename = f'UCI_HAR_Dataset/{subset}/y_{subset}.txt'\n",
    "    y = _read_csv(filename)[0]\n",
    "    # intially static activities are labeled as 4,5,6 so we are filtering only static labels\n",
    "    y_static_con = y>3 # preparing indices for the X_data\n",
    "    y= y[y_static_con]\n",
    "    return pd.get_dummies(y).values , y_static_con"
   ]
  },
  {
   "cell_type": "code",
   "execution_count": 576,
   "metadata": {},
   "outputs": [],
   "source": [
    "def load_data_static():\n",
    "    \"\"\"\n",
    "    Obtain the dataset from multiple files.\n",
    "    Returns: X_train, X_test, y_train, y_test\n",
    "    \"\"\"\n",
    "    \n",
    "    y_train,y_train_con  = load_y_static('train')\n",
    "    y_test,y_test_con =load_y_static('test')\n",
    "    X_train, X_test = load_signals()\n",
    "    X_train_static = X_train[y_train_con] # taking only data with static value\n",
    "    X_test_static = X_test[y_test_con]\n",
    "    \n",
    "\n",
    "    return X_train_static, X_test_static, y_train, y_test"
   ]
  },
  {
   "cell_type": "code",
   "execution_count": 577,
   "metadata": {},
   "outputs": [],
   "source": [
    "def load_y_dynamic(subset):\n",
    "    \"\"\"\n",
    "    every sample objective as a 6 bits vector using One Hot Encoding\n",
    "    (https://pandas.pydata.org/pandas-docs/stable/generated/pandas.get_dummies.html)\n",
    "    \"\"\"\n",
    "    filename = f'UCI_HAR_Dataset/{subset}/y_{subset}.txt'\n",
    "    y = _read_csv(filename)[0]\n",
    "    y_dynamic_con = y<4\n",
    "    y= y[y_dynamic_con]\n",
    "    return pd.get_dummies(y).as_matrix() , y_dynamic_con"
   ]
  },
  {
   "cell_type": "code",
   "execution_count": 578,
   "metadata": {},
   "outputs": [],
   "source": [
    "def load_data_dynamic():\n",
    "    \"\"\"\n",
    "    Obtain the dataset from multiple files.\n",
    "    Returns: X_train, X_test, y_train, y_test\n",
    "    \"\"\"\n",
    "    \n",
    "    y_train,y_train_con  = load_y_dynamic('train')\n",
    "    y_test,y_test_con =load_y_dynamic('test')\n",
    "    X_train, X_test = load_signals()\n",
    "    X_train_dynamic = X_train[y_train_con] # taking only dynamic activity labeled data\n",
    "    X_test_dynamic = X_test[y_test_con]\n",
    "    \n",
    "\n",
    "    return X_train_dynamic, X_test_dynamic, y_train, y_test"
   ]
  },
  {
   "cell_type": "code",
   "execution_count": 579,
   "metadata": {},
   "outputs": [],
   "source": [
    "def load_data_2class():\n",
    "    \"\"\"\n",
    "    this is for dividing among static and dynamic\n",
    "    Returns: X_train, X_test, y_train, y_test\n",
    "    \"\"\"\n",
    "    X_train, X_test = load_signals()\n",
    "    y_train, y_test = load_y_2class('train'), load_y_2class('test')\n",
    "\n",
    "    return X_train, X_test, y_train, y_test"
   ]
  },
  {
   "cell_type": "code",
   "execution_count": 580,
   "metadata": {},
   "outputs": [],
   "source": [
    "def load_y(subset):\n",
    "    \"\"\"\n",
    "    The objective that we are trying to predict is a integer, from 1 to 6,\n",
    "    that represents a human activity. We return a binary representation of \n",
    "    every sample objective as a 6 bits vector using One Hot Encoding\n",
    "    (https://pandas.pydata.org/pandas-docs/stable/generated/pandas.get_dummies.html)\n",
    "    \"\"\"\n",
    "    filename = f'UCI_HAR_Dataset/{subset}/y_{subset}.txt'\n",
    "    y = _read_csv(filename)[0]\n",
    "\n",
    "    return pd.get_dummies(y).as_matrix()"
   ]
  },
  {
   "cell_type": "code",
   "execution_count": 581,
   "metadata": {},
   "outputs": [],
   "source": [
    "from sklearn.preprocessing import StandardScaler"
   ]
  },
  {
   "cell_type": "code",
   "execution_count": 582,
   "metadata": {},
   "outputs": [],
   "source": [
    "def load_data():\n",
    "    \"\"\"\n",
    "    Obtain the dataset from multiple files.\n",
    "    Returns: X_train, X_test, y_train, y_test\n",
    "    \"\"\"\n",
    "    X_train, X_test = load_signals_train(), load_signals_test()\n",
    "    y_train, y_test = load_y('train'), load_y('test')\n",
    "    return X_train, X_test, y_train, y_test"
   ]
  },
  {
   "cell_type": "code",
   "execution_count": 583,
   "metadata": {},
   "outputs": [],
   "source": [
    "# Loading static data\n",
    "X_train_static, X_test_static, Y_train_static, Y_test_static = load_data_static()"
   ]
  },
  {
   "cell_type": "code",
   "execution_count": 584,
   "metadata": {},
   "outputs": [
    {
     "name": "stdout",
     "output_type": "stream",
     "text": [
      "shape of static x_train data (4067, 128, 9)\n",
      "shape of static x_test data (1560, 128, 9)\n",
      "shape of static y_train data (4067, 3)\n",
      "shape of static y_test data (1560, 3)\n"
     ]
    }
   ],
   "source": [
    "print(\"shape of static x_train data\",X_train_static.shape)\n",
    "print(\"shape of static x_test data\",X_test_static.shape)\n",
    "print(\"shape of static y_train data\",Y_train_static.shape)\n",
    "print(\"shape of static y_test data\",Y_test_static.shape)"
   ]
  },
  {
   "cell_type": "code",
   "execution_count": 585,
   "metadata": {},
   "outputs": [],
   "source": [
    "# Loading dynamic data\n",
    "X_train_dynamic, X_test_dynamic, Y_train_dynamic, Y_test_dynamic = load_data_dynamic()"
   ]
  },
  {
   "cell_type": "code",
   "execution_count": 586,
   "metadata": {},
   "outputs": [
    {
     "name": "stdout",
     "output_type": "stream",
     "text": [
      "shape of dynamic x_train data (3285, 128, 9)\n",
      "shape of dynamic x_test data (1387, 128, 9)\n",
      "shape of dynamic y_train data (3285, 3)\n",
      "shape of dynamic y_test data (1387, 3)\n"
     ]
    }
   ],
   "source": [
    "print(\"shape of dynamic x_train data\",X_train_dynamic.shape)\n",
    "print(\"shape of dynamic x_test data\",X_test_dynamic.shape)\n",
    "print(\"shape of dynamic y_train data\",Y_train_dynamic.shape)\n",
    "print(\"shape of dynamic y_test data\",Y_test_dynamic.shape)"
   ]
  },
  {
   "cell_type": "code",
   "execution_count": 587,
   "metadata": {},
   "outputs": [],
   "source": [
    "# Loading the train and test whole data labeled as 0 and 1 for binary classification\n",
    "X_train_2, X_test_2, Y_train_2, Y_test_2 = load_data_2class()"
   ]
  },
  {
   "cell_type": "code",
   "execution_count": 588,
   "metadata": {},
   "outputs": [
    {
     "data": {
      "text/plain": [
       "(2947, 2)"
      ]
     },
     "execution_count": 588,
     "metadata": {},
     "output_type": "execute_result"
    }
   ],
   "source": [
    "Y_test_2.shape"
   ]
  },
  {
   "cell_type": "code",
   "execution_count": 589,
   "metadata": {},
   "outputs": [],
   "source": [
    "# Loading the train and test whole data labeled as 1 to 6 for final classification\n",
    "X_train, X_test, Y_train, Y_test = load_data()"
   ]
  },
  {
   "cell_type": "code",
   "execution_count": 590,
   "metadata": {},
   "outputs": [],
   "source": [
    "# Importing tensorflow\n",
    "import warnings\n",
    "warnings.filterwarnings(\"ignore\")\n",
    "np.random.seed(42)\n",
    "import tensorflow as tf\n",
    "tf.compat.v1.set_random_seed(42)"
   ]
  },
  {
   "cell_type": "code",
   "execution_count": 591,
   "metadata": {},
   "outputs": [],
   "source": [
    "# Configuring a session\n",
    "session_conf = tf.compat.v1.ConfigProto()"
   ]
  },
  {
   "cell_type": "code",
   "execution_count": 592,
   "metadata": {},
   "outputs": [],
   "source": [
    "# Import Keras\n",
    "from keras import backend as K\n",
    "sess = tf.Session(graph=tf.get_default_graph(), config=session_conf)\n",
    "K.set_session(sess)"
   ]
  },
  {
   "cell_type": "code",
   "execution_count": 593,
   "metadata": {},
   "outputs": [],
   "source": [
    "# Importing libraries\n",
    "from keras.models import Sequential\n",
    "from keras.layers import LSTM\n",
    "from keras.layers.core import Dense, Dropout"
   ]
  },
  {
   "cell_type": "code",
   "execution_count": 594,
   "metadata": {},
   "outputs": [],
   "source": [
    "# Initializing parameters\n",
    "epochs = 20\n",
    "batch_size = 32"
   ]
  },
  {
   "cell_type": "code",
   "execution_count": 595,
   "metadata": {},
   "outputs": [],
   "source": [
    "# Utility function to count the number of classes\n",
    "def _count_classes(y):\n",
    "    return len(set([tuple(category) for category in y]))"
   ]
  },
  {
   "cell_type": "code",
   "execution_count": 596,
   "metadata": {},
   "outputs": [
    {
     "data": {
      "text/plain": [
       "(7352, 128, 9)"
      ]
     },
     "execution_count": 596,
     "metadata": {},
     "output_type": "execute_result"
    }
   ],
   "source": [
    "X_train.shape"
   ]
  },
  {
   "cell_type": "code",
   "execution_count": 597,
   "metadata": {},
   "outputs": [
    {
     "name": "stdout",
     "output_type": "stream",
     "text": [
      "128\n",
      "9\n",
      "7352\n",
      "6\n"
     ]
    }
   ],
   "source": [
    "timesteps = len(X_train[0])\n",
    "input_dim = len(X_train[0][0])\n",
    "n_classes = _count_classes(Y_train)\n",
    "\n",
    "print(timesteps)\n",
    "print(input_dim)\n",
    "print(len(X_train))\n",
    "print(n_classes)"
   ]
  },
  {
   "cell_type": "code",
   "execution_count": 598,
   "metadata": {},
   "outputs": [
    {
     "data": {
      "text/plain": [
       "(7352, 6)"
      ]
     },
     "execution_count": 598,
     "metadata": {},
     "output_type": "execute_result"
    }
   ],
   "source": [
    "Y_train.shape"
   ]
  },
  {
   "cell_type": "markdown",
   "metadata": {},
   "source": [
    "- Defining the Architecture of LSTM"
   ]
  },
  {
   "cell_type": "markdown",
   "metadata": {},
   "source": [
    "<H1>MODEL 1 WITH 256 LSTM UNITS AND DROPOUT = 0.5</H1>"
   ]
  },
  {
   "cell_type": "code",
   "execution_count": 599,
   "metadata": {},
   "outputs": [
    {
     "name": "stdout",
     "output_type": "stream",
     "text": [
      "_________________________________________________________________\n",
      "Layer (type)                 Output Shape              Param #   \n",
      "=================================================================\n",
      "lstm_3 (LSTM)                (None, 256)               272384    \n",
      "_________________________________________________________________\n",
      "dropout_33 (Dropout)         (None, 256)               0         \n",
      "_________________________________________________________________\n",
      "dense_64 (Dense)             (None, 6)                 1542      \n",
      "=================================================================\n",
      "Total params: 273,926\n",
      "Trainable params: 273,926\n",
      "Non-trainable params: 0\n",
      "_________________________________________________________________\n"
     ]
    }
   ],
   "source": [
    "# Initiliazing the sequential model\n",
    "model = Sequential()\n",
    "# Configuring the parameters\n",
    "model.add(LSTM(256, input_shape=(timesteps, input_dim)))\n",
    "# Adding a dropout layer\n",
    "model.add(Dropout(0.7))\n",
    "# Adding a dense output layer with sigmoid activation\n",
    "model.add(Dense(n_classes, activation='sigmoid'))\n",
    "model.summary()"
   ]
  },
  {
   "cell_type": "code",
   "execution_count": 600,
   "metadata": {},
   "outputs": [],
   "source": [
    "# Compiling the model\n",
    "model.compile(loss='categorical_crossentropy',\n",
    "              optimizer='rmsprop',\n",
    "              metrics=['accuracy'])"
   ]
  },
  {
   "cell_type": "code",
   "execution_count": 601,
   "metadata": {},
   "outputs": [
    {
     "name": "stdout",
     "output_type": "stream",
     "text": [
      "Train on 7352 samples, validate on 2947 samples\n",
      "Epoch 1/20\n",
      "7352/7352 [==============================] - 247s 34ms/step - loss: 1.0109 - acc: 0.5590 - val_loss: 0.8028 - val_acc: 0.5589\n",
      "Epoch 2/20\n",
      "7352/7352 [==============================] - 251s 34ms/step - loss: 0.6508 - acc: 0.7111 - val_loss: 0.6791 - val_acc: 0.7082\n",
      "Epoch 3/20\n",
      "7352/7352 [==============================] - 250s 34ms/step - loss: 0.3603 - acc: 0.8670 - val_loss: 0.2927 - val_acc: 0.8921\n",
      "Epoch 4/20\n",
      "7352/7352 [==============================] - 248s 34ms/step - loss: 0.2136 - acc: 0.9248 - val_loss: 0.3399 - val_acc: 0.9067\n",
      "Epoch 5/20\n",
      "7352/7352 [==============================] - 252s 34ms/step - loss: 0.1842 - acc: 0.9327 - val_loss: 0.2983 - val_acc: 0.9158\n",
      "Epoch 6/20\n",
      "7352/7352 [==============================] - 253s 34ms/step - loss: 0.1626 - acc: 0.9412 - val_loss: 0.2658 - val_acc: 0.9152\n",
      "Epoch 7/20\n",
      "7352/7352 [==============================] - 251s 34ms/step - loss: 0.1526 - acc: 0.9426 - val_loss: 0.2652 - val_acc: 0.9125\n",
      "Epoch 8/20\n",
      "7352/7352 [==============================] - 309s 42ms/step - loss: 0.1654 - acc: 0.9423 - val_loss: 0.3396 - val_acc: 0.9186\n",
      "Epoch 9/20\n",
      "7352/7352 [==============================] - 343s 47ms/step - loss: 0.1361 - acc: 0.9482 - val_loss: 0.3568 - val_acc: 0.9135\n",
      "Epoch 10/20\n",
      "7352/7352 [==============================] - 302s 41ms/step - loss: 0.1411 - acc: 0.9486 - val_loss: 0.2813 - val_acc: 0.9186\n",
      "Epoch 11/20\n",
      "7352/7352 [==============================] - 250s 34ms/step - loss: 0.1313 - acc: 0.9493 - val_loss: 0.3014 - val_acc: 0.9152\n",
      "Epoch 12/20\n",
      "7352/7352 [==============================] - 252s 34ms/step - loss: 0.1361 - acc: 0.9487 - val_loss: 0.3272 - val_acc: 0.9023\n",
      "Epoch 13/20\n",
      "7352/7352 [==============================] - 251s 34ms/step - loss: 0.1233 - acc: 0.9512 - val_loss: 0.3753 - val_acc: 0.9125\n",
      "Epoch 14/20\n",
      "7352/7352 [==============================] - 263s 36ms/step - loss: 0.1332 - acc: 0.9493 - val_loss: 0.3809 - val_acc: 0.9023\n",
      "Epoch 15/20\n",
      "7352/7352 [==============================] - 272s 37ms/step - loss: 0.1225 - acc: 0.9491 - val_loss: 0.3146 - val_acc: 0.8968\n",
      "Epoch 16/20\n",
      "7352/7352 [==============================] - 275s 37ms/step - loss: 0.1396 - acc: 0.9437 - val_loss: 0.3089 - val_acc: 0.9057\n",
      "Epoch 17/20\n",
      "7352/7352 [==============================] - 251s 34ms/step - loss: 0.1364 - acc: 0.9471 - val_loss: 0.2736 - val_acc: 0.9321\n",
      "Epoch 18/20\n",
      "7352/7352 [==============================] - 251s 34ms/step - loss: 0.1260 - acc: 0.9512 - val_loss: 0.4522 - val_acc: 0.9226\n",
      "Epoch 19/20\n",
      "7352/7352 [==============================] - 249s 34ms/step - loss: 0.1355 - acc: 0.9527 - val_loss: 0.5346 - val_acc: 0.9091\n",
      "Epoch 20/20\n",
      "7352/7352 [==============================] - 251s 34ms/step - loss: 0.1160 - acc: 0.9548 - val_loss: 0.4181 - val_acc: 0.9172\n"
     ]
    },
    {
     "data": {
      "text/plain": [
       "<keras.callbacks.History at 0x14f0107b8d0>"
      ]
     },
     "execution_count": 601,
     "metadata": {},
     "output_type": "execute_result"
    }
   ],
   "source": [
    "# Training the model\n",
    "model.fit(X_train,\n",
    "          Y_train,\n",
    "          batch_size=batch_size,\n",
    "          validation_data=(X_test, Y_test),\n",
    "          epochs=epochs)"
   ]
  },
  {
   "cell_type": "code",
   "execution_count": 602,
   "metadata": {
    "scrolled": true
   },
   "outputs": [
    {
     "name": "stdout",
     "output_type": "stream",
     "text": [
      "Pred                LAYING  SITTING  STANDING  WALKING  WALKING_DOWNSTAIRS  \\\n",
      "True                                                                         \n",
      "LAYING                 537        0         0        0                   0   \n",
      "SITTING                  0      365       123        0                   0   \n",
      "STANDING                 0       53       476        3                   0   \n",
      "WALKING                  0        0         1      469                  26   \n",
      "WALKING_DOWNSTAIRS       0        0         0        2                 408   \n",
      "WALKING_UPSTAIRS         0        1         1        2                  19   \n",
      "\n",
      "Pred                WALKING_UPSTAIRS  \n",
      "True                                  \n",
      "LAYING                             0  \n",
      "SITTING                            3  \n",
      "STANDING                           0  \n",
      "WALKING                            0  \n",
      "WALKING_DOWNSTAIRS                10  \n",
      "WALKING_UPSTAIRS                 448  \n"
     ]
    }
   ],
   "source": [
    "# Confusion Matrix\n",
    "print(confusion_matrix(Y_test, model.predict(X_test)))"
   ]
  },
  {
   "cell_type": "code",
   "execution_count": 603,
   "metadata": {},
   "outputs": [
    {
     "name": "stdout",
     "output_type": "stream",
     "text": [
      "2947/2947 [==============================] - 31s 11ms/step\n"
     ]
    }
   ],
   "source": [
    "score = model.evaluate(X_test, Y_test)"
   ]
  },
  {
   "cell_type": "code",
   "execution_count": 604,
   "metadata": {},
   "outputs": [
    {
     "data": {
      "text/plain": [
       "[0.41806976127311524, 0.9172039362063115]"
      ]
     },
     "execution_count": 604,
     "metadata": {},
     "output_type": "execute_result"
    }
   ],
   "source": [
    "score"
   ]
  },
  {
   "cell_type": "markdown",
   "metadata": {},
   "source": [
    "__getting test accuraccy 0.925__"
   ]
  },
  {
   "cell_type": "markdown",
   "metadata": {},
   "source": [
    "<H1>MODEL 2 TRY CNN LAYERS</H1>"
   ]
  },
  {
   "cell_type": "code",
   "execution_count": 605,
   "metadata": {},
   "outputs": [],
   "source": [
    "from keras.layers import Conv1D, Conv2D\n",
    "from keras.layers import MaxPooling1D\n",
    "from keras.layers import Dense, Activation, Flatten\n",
    "from keras.layers import TimeDistributed\n",
    "from hyperas.distributions import uniform , choice\n",
    "from keras.layers.normalization import BatchNormalization"
   ]
  },
  {
   "cell_type": "code",
   "execution_count": 608,
   "metadata": {},
   "outputs": [],
   "source": [
    "model = Sequential()\n",
    "model.add(Conv1D(filters=128, kernel_size=7,activation='relu',\n",
    "             kernel_regularizer=regularizers.l2(0.0007),input_shape=(128,9)))\n",
    "\n",
    "model.add(Conv1D(filters=32, kernel_size=5, activation='relu'))\n",
    "model.add(Dropout(0.6))\n",
    "model.add(MaxPooling1D(pool_size=5))\n",
    "model.add(Flatten())\n",
    "model.add(Dense(32, activation='relu'))\n",
    "model.add(Dense(6, activation='softmax'))"
   ]
  },
  {
   "cell_type": "code",
   "execution_count": 609,
   "metadata": {},
   "outputs": [],
   "source": [
    "# Compiling the model\n",
    "model.compile(loss='categorical_crossentropy',\n",
    "              optimizer='rmsprop',\n",
    "              metrics=['accuracy'])"
   ]
  },
  {
   "cell_type": "code",
   "execution_count": 610,
   "metadata": {},
   "outputs": [
    {
     "name": "stdout",
     "output_type": "stream",
     "text": [
      "Train on 7352 samples, validate on 2947 samples\n",
      "Epoch 1/30\n",
      "7352/7352 [==============================] - 17s 2ms/step - loss: 0.3447 - acc: 0.8765 - val_loss: 0.3057 - val_acc: 0.9196\n",
      "Epoch 2/30\n",
      "7352/7352 [==============================] - 12s 2ms/step - loss: 0.1457 - acc: 0.9468 - val_loss: 0.2750 - val_acc: 0.9165\n",
      "Epoch 3/30\n",
      "7352/7352 [==============================] - 12s 2ms/step - loss: 0.1177 - acc: 0.9539 - val_loss: 0.2717 - val_acc: 0.9094\n",
      "Epoch 4/30\n",
      "7352/7352 [==============================] - 12s 2ms/step - loss: 0.1210 - acc: 0.9585 - val_loss: 0.2908 - val_acc: 0.9172\n",
      "Epoch 5/30\n",
      "7352/7352 [==============================] - 11s 1ms/step - loss: 0.1129 - acc: 0.9608 - val_loss: 0.3173 - val_acc: 0.9199\n",
      "Epoch 6/30\n",
      "7352/7352 [==============================] - 10s 1ms/step - loss: 0.1027 - acc: 0.9646 - val_loss: 0.2687 - val_acc: 0.9182\n",
      "Epoch 7/30\n",
      "7352/7352 [==============================] - 11s 1ms/step - loss: 0.0895 - acc: 0.9693 - val_loss: 0.3473 - val_acc: 0.9152\n",
      "Epoch 8/30\n",
      "7352/7352 [==============================] - 11s 1ms/step - loss: 0.0874 - acc: 0.9701 - val_loss: 0.3463 - val_acc: 0.9257\n",
      "Epoch 9/30\n",
      "7352/7352 [==============================] - 11s 1ms/step - loss: 0.0870 - acc: 0.9729 - val_loss: 0.3411 - val_acc: 0.9318\n",
      "Epoch 10/30\n",
      "7352/7352 [==============================] - 10s 1ms/step - loss: 0.0940 - acc: 0.9725 - val_loss: 0.3384 - val_acc: 0.9308\n",
      "Epoch 11/30\n",
      "7352/7352 [==============================] - 11s 1ms/step - loss: 0.0950 - acc: 0.9729 - val_loss: 0.2994 - val_acc: 0.9315\n",
      "Epoch 12/30\n",
      "7352/7352 [==============================] - 10s 1ms/step - loss: 0.0833 - acc: 0.9744 - val_loss: 0.3596 - val_acc: 0.9213\n",
      "Epoch 13/30\n",
      "7352/7352 [==============================] - 11s 1ms/step - loss: 0.0774 - acc: 0.9774 - val_loss: 0.4036 - val_acc: 0.9182\n",
      "Epoch 14/30\n",
      "7352/7352 [==============================] - 10s 1ms/step - loss: 0.0738 - acc: 0.9774 - val_loss: 0.3936 - val_acc: 0.9165\n",
      "Epoch 15/30\n",
      "7352/7352 [==============================] - 10s 1ms/step - loss: 0.0801 - acc: 0.9781 - val_loss: 0.4387 - val_acc: 0.9203\n",
      "Epoch 16/30\n",
      "7352/7352 [==============================] - 11s 1ms/step - loss: 0.0738 - acc: 0.9805 - val_loss: 0.5509 - val_acc: 0.9006\n",
      "Epoch 17/30\n",
      "7352/7352 [==============================] - 10s 1ms/step - loss: 0.0662 - acc: 0.9778 - val_loss: 0.9739 - val_acc: 0.8741\n",
      "Epoch 18/30\n",
      "7352/7352 [==============================] - 10s 1ms/step - loss: 0.0787 - acc: 0.9780 - val_loss: 0.3623 - val_acc: 0.9247\n",
      "Epoch 19/30\n",
      "7352/7352 [==============================] - 10s 1ms/step - loss: 0.0623 - acc: 0.9800 - val_loss: 0.4833 - val_acc: 0.9196\n",
      "Epoch 20/30\n",
      "7352/7352 [==============================] - 10s 1ms/step - loss: 0.0652 - acc: 0.9801 - val_loss: 0.4131 - val_acc: 0.9342\n",
      "Epoch 21/30\n",
      "7352/7352 [==============================] - 10s 1ms/step - loss: 0.0577 - acc: 0.9834 - val_loss: 0.3845 - val_acc: 0.9281\n",
      "Epoch 22/30\n",
      "7352/7352 [==============================] - 10s 1ms/step - loss: 0.0639 - acc: 0.9835 - val_loss: 0.4837 - val_acc: 0.9182\n",
      "Epoch 23/30\n",
      "7352/7352 [==============================] - 10s 1ms/step - loss: 0.0611 - acc: 0.9818 - val_loss: 0.5226 - val_acc: 0.9179\n",
      "Epoch 24/30\n",
      "7352/7352 [==============================] - 11s 1ms/step - loss: 0.0570 - acc: 0.9825 - val_loss: 0.4792 - val_acc: 0.9192\n",
      "Epoch 25/30\n",
      "7352/7352 [==============================] - 11s 1ms/step - loss: 0.0510 - acc: 0.9838 - val_loss: 0.4524 - val_acc: 0.9267\n",
      "Epoch 26/30\n",
      "7352/7352 [==============================] - 11s 1ms/step - loss: 0.0718 - acc: 0.9830 - val_loss: 0.5625 - val_acc: 0.9141\n",
      "Epoch 27/30\n",
      "7352/7352 [==============================] - 11s 1ms/step - loss: 0.0781 - acc: 0.9838 - val_loss: 0.5346 - val_acc: 0.9294\n",
      "Epoch 28/30\n",
      "7352/7352 [==============================] - 11s 1ms/step - loss: 0.0525 - acc: 0.9853 - val_loss: 0.5426 - val_acc: 0.9203\n",
      "Epoch 29/30\n",
      "7352/7352 [==============================] - 11s 1ms/step - loss: 0.0551 - acc: 0.9842 - val_loss: 0.5541 - val_acc: 0.9121\n",
      "Epoch 30/30\n",
      "7352/7352 [==============================] - 11s 1ms/step - loss: 0.0691 - acc: 0.9846 - val_loss: 0.5513 - val_acc: 0.9199\n"
     ]
    }
   ],
   "source": [
    "# Training the model\n",
    "history=model.fit(X_train,\n",
    "          Y_train,\n",
    "          batch_size=batch_size,\n",
    "          validation_data=(X_test, Y_test),\n",
    "          epochs=30)"
   ]
  },
  {
   "cell_type": "code",
   "execution_count": 615,
   "metadata": {
    "scrolled": true
   },
   "outputs": [
    {
     "name": "stdout",
     "output_type": "stream",
     "text": [
      "Pred                LAYING  SITTING  STANDING  WALKING  WALKING_DOWNSTAIRS  \\\n",
      "True                                                                         \n",
      "LAYING                 537        0         0        0                   0   \n",
      "SITTING                  6      401        83        0                   0   \n",
      "STANDING                 0       71       461        0                   0   \n",
      "WALKING                  0        8         0      472                  16   \n",
      "WALKING_DOWNSTAIRS       0        1         0        4                 411   \n",
      "WALKING_UPSTAIRS         0        8         0        3                  31   \n",
      "\n",
      "Pred                WALKING_UPSTAIRS  \n",
      "True                                  \n",
      "LAYING                             0  \n",
      "SITTING                            1  \n",
      "STANDING                           0  \n",
      "WALKING                            0  \n",
      "WALKING_DOWNSTAIRS                 4  \n",
      "WALKING_UPSTAIRS                 429  \n"
     ]
    }
   ],
   "source": [
    "# Confusion Matrix\n",
    "print(confusion_matrix(Y_test, model.predict(X_test)))"
   ]
  },
  {
   "cell_type": "code",
   "execution_count": 616,
   "metadata": {},
   "outputs": [
    {
     "name": "stdout",
     "output_type": "stream",
     "text": [
      "2947/2947 [==============================] - 1s 465us/step\n"
     ]
    }
   ],
   "source": [
    "score = model.evaluate(X_test, Y_test)"
   ]
  },
  {
   "cell_type": "code",
   "execution_count": 617,
   "metadata": {},
   "outputs": [
    {
     "data": {
      "text/plain": [
       "[0.5513466087953368, 0.9199185612487275]"
      ]
     },
     "execution_count": 617,
     "metadata": {},
     "output_type": "execute_result"
    }
   ],
   "source": [
    "score"
   ]
  },
  {
   "cell_type": "markdown",
   "metadata": {},
   "source": [
    "<h1>MODEL 3 TWO LSTM LAYER</h1>"
   ]
  },
  {
   "cell_type": "code",
   "execution_count": null,
   "metadata": {},
   "outputs": [],
   "source": [
    "from keras import regularizers"
   ]
  },
  {
   "cell_type": "code",
   "execution_count": 618,
   "metadata": {},
   "outputs": [
    {
     "name": "stdout",
     "output_type": "stream",
     "text": [
      "_________________________________________________________________\n",
      "Layer (type)                 Output Shape              Param #   \n",
      "=================================================================\n",
      "lstm_4 (LSTM)                (None, 128, 32)           5376      \n",
      "_________________________________________________________________\n",
      "dropout_35 (Dropout)         (None, 128, 32)           0         \n",
      "_________________________________________________________________\n",
      "lstm_5 (LSTM)                (None, 28)                6832      \n",
      "_________________________________________________________________\n",
      "dropout_36 (Dropout)         (None, 28)                0         \n",
      "_________________________________________________________________\n",
      "dense_67 (Dense)             (None, 6)                 174       \n",
      "=================================================================\n",
      "Total params: 12,382\n",
      "Trainable params: 12,382\n",
      "Non-trainable params: 0\n",
      "_________________________________________________________________\n"
     ]
    }
   ],
   "source": [
    "model = Sequential()\n",
    "# Configuring the parameters\n",
    "model.add(LSTM(32,return_sequences=True,input_shape=(timesteps, input_dim)))\n",
    "# Adding a dropout layer\n",
    "model.add(Dropout(0.5))\n",
    "\n",
    "model.add(LSTM(28,input_shape=(timesteps, input_dim)))\n",
    "# Adding a dropout layer\n",
    "model.add(Dropout(0.6))\n",
    "# Adding a dense output layer with sigmoid activation\n",
    "model.add(Dense(n_classes, activation='sigmoid'))\n",
    "model.summary()"
   ]
  },
  {
   "cell_type": "code",
   "execution_count": 619,
   "metadata": {},
   "outputs": [],
   "source": [
    "# Compiling the model\n",
    "model.compile(loss='categorical_crossentropy',\n",
    "              optimizer='rmsprop',\n",
    "              metrics=['accuracy'])"
   ]
  },
  {
   "cell_type": "code",
   "execution_count": 620,
   "metadata": {},
   "outputs": [
    {
     "name": "stdout",
     "output_type": "stream",
     "text": [
      "Train on 7352 samples, validate on 2947 samples\n",
      "Epoch 1/20\n",
      "7352/7352 [==============================] - 101s 14ms/step - loss: 1.1560 - acc: 0.5570 - val_loss: 0.8574 - val_acc: 0.5901\n",
      "Epoch 2/20\n",
      "7352/7352 [==============================] - 97s 13ms/step - loss: 0.7567 - acc: 0.6506 - val_loss: 0.7961 - val_acc: 0.6335\n",
      "Epoch 3/20\n",
      "7352/7352 [==============================] - 97s 13ms/step - loss: 0.6427 - acc: 0.7297 - val_loss: 0.6118 - val_acc: 0.7316\n",
      "Epoch 4/20\n",
      "7352/7352 [==============================] - 97s 13ms/step - loss: 0.5169 - acc: 0.8100 - val_loss: 0.5924 - val_acc: 0.8191\n",
      "Epoch 5/20\n",
      "7352/7352 [==============================] - 96s 13ms/step - loss: 0.3997 - acc: 0.8738 - val_loss: 0.4450 - val_acc: 0.8690\n",
      "Epoch 6/20\n",
      "7352/7352 [==============================] - 97s 13ms/step - loss: 0.3227 - acc: 0.9045 - val_loss: 0.3793 - val_acc: 0.8914\n",
      "Epoch 7/20\n",
      "7352/7352 [==============================] - 97s 13ms/step - loss: 0.2806 - acc: 0.9185 - val_loss: 0.3573 - val_acc: 0.8887\n",
      "Epoch 8/20\n",
      "7352/7352 [==============================] - 96s 13ms/step - loss: 0.2470 - acc: 0.9226 - val_loss: 0.3585 - val_acc: 0.9009\n",
      "Epoch 9/20\n",
      "7352/7352 [==============================] - 96s 13ms/step - loss: 0.2353 - acc: 0.9293 - val_loss: 0.3891 - val_acc: 0.8975\n",
      "Epoch 10/20\n",
      "7352/7352 [==============================] - 97s 13ms/step - loss: 0.2096 - acc: 0.9373 - val_loss: 0.4256 - val_acc: 0.8911\n",
      "Epoch 11/20\n",
      "7352/7352 [==============================] - 96s 13ms/step - loss: 0.2078 - acc: 0.9380 - val_loss: 0.4747 - val_acc: 0.8924\n",
      "Epoch 12/20\n",
      "7352/7352 [==============================] - 98s 13ms/step - loss: 0.1977 - acc: 0.9391 - val_loss: 0.6156 - val_acc: 0.8785\n",
      "Epoch 13/20\n",
      "7352/7352 [==============================] - 96s 13ms/step - loss: 0.1874 - acc: 0.9453 - val_loss: 0.4269 - val_acc: 0.9087\n",
      "Epoch 14/20\n",
      "7352/7352 [==============================] - 96s 13ms/step - loss: 0.1777 - acc: 0.9427 - val_loss: 0.2883 - val_acc: 0.9250\n",
      "Epoch 15/20\n",
      "7352/7352 [==============================] - 96s 13ms/step - loss: 0.1761 - acc: 0.9427 - val_loss: 0.3699 - val_acc: 0.9158\n",
      "Epoch 16/20\n",
      "7352/7352 [==============================] - 97s 13ms/step - loss: 0.1755 - acc: 0.9452 - val_loss: 0.3131 - val_acc: 0.9233\n",
      "Epoch 17/20\n",
      "7352/7352 [==============================] - 96s 13ms/step - loss: 0.1667 - acc: 0.9430 - val_loss: 0.3686 - val_acc: 0.9189\n",
      "Epoch 18/20\n",
      "7352/7352 [==============================] - 96s 13ms/step - loss: 0.1733 - acc: 0.9482 - val_loss: 0.4375 - val_acc: 0.9108\n",
      "Epoch 19/20\n",
      "7352/7352 [==============================] - 96s 13ms/step - loss: 0.1650 - acc: 0.9489 - val_loss: 0.3902 - val_acc: 0.9046\n",
      "Epoch 20/20\n",
      "7352/7352 [==============================] - 96s 13ms/step - loss: 0.1629 - acc: 0.9426 - val_loss: 0.3569 - val_acc: 0.9148\n"
     ]
    }
   ],
   "source": [
    "# Training the model\n",
    "history=model.fit(X_train,\n",
    "          Y_train,\n",
    "          batch_size=32,\n",
    "          validation_data=(X_test, Y_test),\n",
    "          epochs=epochs)"
   ]
  },
  {
   "cell_type": "code",
   "execution_count": 621,
   "metadata": {
    "scrolled": true
   },
   "outputs": [
    {
     "name": "stdout",
     "output_type": "stream",
     "text": [
      "Pred                LAYING  SITTING  STANDING  WALKING  WALKING_DOWNSTAIRS  \\\n",
      "True                                                                         \n",
      "LAYING                 537        0         0        0                   0   \n",
      "SITTING                  3      421        45        3                   0   \n",
      "STANDING                 0      129       400        3                   0   \n",
      "WALKING                  0        0         1      471                   6   \n",
      "WALKING_DOWNSTAIRS       0        0         0        1                 400   \n",
      "WALKING_UPSTAIRS         0        0         0        2                   2   \n",
      "\n",
      "Pred                WALKING_UPSTAIRS  \n",
      "True                                  \n",
      "LAYING                             0  \n",
      "SITTING                           19  \n",
      "STANDING                           0  \n",
      "WALKING                           18  \n",
      "WALKING_DOWNSTAIRS                19  \n",
      "WALKING_UPSTAIRS                 467  \n"
     ]
    }
   ],
   "source": [
    "# Confusion Matrix\n",
    "print(confusion_matrix(Y_test, model.predict(X_test)))"
   ]
  },
  {
   "cell_type": "code",
   "execution_count": 622,
   "metadata": {},
   "outputs": [
    {
     "name": "stdout",
     "output_type": "stream",
     "text": [
      "2947/2947 [==============================] - 4s 1ms/step\n"
     ]
    }
   ],
   "source": [
    "score = model.evaluate(X_test, Y_test)"
   ]
  },
  {
   "cell_type": "code",
   "execution_count": 623,
   "metadata": {},
   "outputs": [
    {
     "data": {
      "text/plain": [
       "[0.35691609237638755, 0.9148286392941974]"
      ]
     },
     "execution_count": 623,
     "metadata": {},
     "output_type": "execute_result"
    }
   ],
   "source": [
    "score"
   ]
  },
  {
   "cell_type": "code",
   "execution_count": 624,
   "metadata": {
    "scrolled": true
   },
   "outputs": [
    {
     "name": "stdout",
     "output_type": "stream",
     "text": [
      "Pred                LAYING  SITTING  STANDING  WALKING  WALKING_DOWNSTAIRS  \\\n",
      "True                                                                         \n",
      "LAYING                 537        0         0        0                   0   \n",
      "SITTING                  3      421        45        3                   0   \n",
      "STANDING                 0      129       400        3                   0   \n",
      "WALKING                  0        0         1      471                   6   \n",
      "WALKING_DOWNSTAIRS       0        0         0        1                 400   \n",
      "WALKING_UPSTAIRS         0        0         0        2                   2   \n",
      "\n",
      "Pred                WALKING_UPSTAIRS  \n",
      "True                                  \n",
      "LAYING                             0  \n",
      "SITTING                           19  \n",
      "STANDING                           0  \n",
      "WALKING                           18  \n",
      "WALKING_DOWNSTAIRS                19  \n",
      "WALKING_UPSTAIRS                 467  \n"
     ]
    }
   ],
   "source": [
    "# Confusion Matrix\n",
    "print(confusion_matrix(Y_test, model.predict(X_test)))"
   ]
  },
  {
   "cell_type": "markdown",
   "metadata": {},
   "source": []
  },
  {
   "cell_type": "markdown",
   "metadata": {},
   "source": [
    "__WE get almost same accuraccy but with CNN architecture it is better but loss is decreasing __"
   ]
  },
  {
   "cell_type": "markdown",
   "metadata": {},
   "source": [
    "__from the above observation we can see that after trying all <br>\n",
    "model we are not getting accuraccy above 92% because of the overlapping of sitting and standing<br>\n",
    "so we use divide the model into three parts\n",
    "the idea is taken from this research paper: https://www.mdpi.com/1424-8220/18/4/1055/pdf__<br>\n",
    "1. into classes between static and dynamic .\n",
    "2. classify 3 categories among static \n",
    "3. classify 3 categories among dynamic\n"
   ]
  },
  {
   "cell_type": "code",
   "execution_count": 535,
   "metadata": {},
   "outputs": [
    {
     "name": "stdout",
     "output_type": "stream",
     "text": [
      "_________________________________________________________________\n",
      "Layer (type)                 Output Shape              Param #   \n",
      "=================================================================\n",
      "conv1d_46 (Conv1D)           (None, 126, 64)           1792      \n",
      "_________________________________________________________________\n",
      "dropout_29 (Dropout)         (None, 126, 64)           0         \n",
      "_________________________________________________________________\n",
      "max_pooling1d_28 (MaxPooling (None, 42, 64)            0         \n",
      "_________________________________________________________________\n",
      "flatten_28 (Flatten)         (None, 2688)              0         \n",
      "_________________________________________________________________\n",
      "dense_57 (Dense)             (None, 50)                134450    \n",
      "_________________________________________________________________\n",
      "dense_58 (Dense)             (None, 2)                 102       \n",
      "=================================================================\n",
      "Total params: 136,344\n",
      "Trainable params: 136,344\n",
      "Non-trainable params: 0\n",
      "_________________________________________________________________\n"
     ]
    }
   ],
   "source": [
    "# Initiliazing the sequential model\n",
    "model_half = Sequential()\n",
    "model_half.add(Conv1D(64, kernel_size=3, activation= 'relu',input_shape=(128,9)))\n",
    "model_half.add(Dropout(0.6))\n",
    "model_half.add(MaxPooling1D(pool_size=3))\n",
    "model_half.add(Flatten())\n",
    "model_half.add(Dense(50, activation='relu'))\n",
    "model_half.add(Dense(2, activation='softmax'))\n",
    "model_half.summary()"
   ]
  },
  {
   "cell_type": "code",
   "execution_count": 536,
   "metadata": {},
   "outputs": [],
   "source": [
    "# Compiling the model\n",
    "model_half.compile(loss='categorical_crossentropy',\n",
    "              optimizer='rmsprop',\n",
    "              metrics=['accuracy'])"
   ]
  },
  {
   "cell_type": "code",
   "execution_count": 537,
   "metadata": {},
   "outputs": [
    {
     "name": "stdout",
     "output_type": "stream",
     "text": [
      "Train on 7352 samples, validate on 2947 samples\n",
      "Epoch 1/10\n",
      "7352/7352 [==============================] - 8s 1ms/step - loss: 0.0524 - acc: 0.9830 - val_loss: 0.0213 - val_acc: 0.9942\n",
      "Epoch 2/10\n",
      "7352/7352 [==============================] - 6s 831us/step - loss: 0.0014 - acc: 0.9996 - val_loss: 0.0110 - val_acc: 0.9969\n",
      "Epoch 3/10\n",
      "7352/7352 [==============================] - 6s 771us/step - loss: 0.0027 - acc: 0.9993 - val_loss: 0.0158 - val_acc: 0.9966\n",
      "Epoch 4/10\n",
      "7352/7352 [==============================] - 6s 807us/step - loss: 9.8023e-04 - acc: 0.9997 - val_loss: 0.0114 - val_acc: 0.9976\n",
      "Epoch 5/10\n",
      "7352/7352 [==============================] - 6s 787us/step - loss: 9.1758e-05 - acc: 1.0000 - val_loss: 0.0143 - val_acc: 0.9976\n",
      "Epoch 6/10\n",
      "7352/7352 [==============================] - 6s 803us/step - loss: 1.5712e-05 - acc: 1.0000 - val_loss: 0.0141 - val_acc: 0.9973\n",
      "Epoch 7/10\n",
      "7352/7352 [==============================] - 6s 785us/step - loss: 4.1130e-05 - acc: 1.0000 - val_loss: 0.0114 - val_acc: 0.9980\n",
      "Epoch 8/10\n",
      "7352/7352 [==============================] - 8s 1ms/step - loss: 6.4638e-07 - acc: 1.0000 - val_loss: 0.0359 - val_acc: 0.9874\n",
      "Epoch 9/10\n",
      "7352/7352 [==============================] - 6s 798us/step - loss: 8.4785e-07 - acc: 1.0000 - val_loss: 0.0183 - val_acc: 0.9952\n",
      "Epoch 10/10\n",
      "7352/7352 [==============================] - 6s 765us/step - loss: 1.2340e-06 - acc: 1.0000 - val_loss: 0.0139 - val_acc: 0.9976\n"
     ]
    }
   ],
   "source": [
    "# Training the model\n",
    "history = model_half.fit(X_train_2,\n",
    "          Y_train_2,\n",
    "          batch_size=batch_size,\n",
    "          validation_data=(X_test_2, Y_test_2),\n",
    "          epochs=10)"
   ]
  },
  {
   "cell_type": "markdown",
   "metadata": {},
   "source": [
    "__from the above observation you can see that model predicts between two class static and  dynamic<br>\n",
    "with almost 100% accuraccy__"
   ]
  },
  {
   "cell_type": "markdown",
   "metadata": {},
   "source": [
    "<h1>CLASSIFY WITHIN STATIC</h1>"
   ]
  },
  {
   "cell_type": "code",
   "execution_count": 538,
   "metadata": {},
   "outputs": [
    {
     "name": "stdout",
     "output_type": "stream",
     "text": [
      "_________________________________________________________________\n",
      "Layer (type)                 Output Shape              Param #   \n",
      "=================================================================\n",
      "conv1d_47 (Conv1D)           (None, 124, 32)           1472      \n",
      "_________________________________________________________________\n",
      "conv1d_48 (Conv1D)           (None, 122, 16)           1552      \n",
      "_________________________________________________________________\n",
      "dropout_30 (Dropout)         (None, 122, 16)           0         \n",
      "_________________________________________________________________\n",
      "max_pooling1d_29 (MaxPooling (None, 61, 16)            0         \n",
      "_________________________________________________________________\n",
      "flatten_29 (Flatten)         (None, 976)               0         \n",
      "_________________________________________________________________\n",
      "dense_59 (Dense)             (None, 64)                62528     \n",
      "_________________________________________________________________\n",
      "dense_60 (Dense)             (None, 3)                 195       \n",
      "=================================================================\n",
      "Total params: 65,747\n",
      "Trainable params: 65,747\n",
      "Non-trainable params: 0\n",
      "_________________________________________________________________\n",
      "None\n"
     ]
    }
   ],
   "source": [
    "model_static= Sequential()\n",
    "model_static.add(Conv1D(filters=32, kernel_size=5,activation='relu',input_shape=(128,9)))\n",
    "model_static.add(Conv1D(filters=16, kernel_size=3, \n",
    "                  activation='relu'))\n",
    "model_static.add(Dropout(0.5))\n",
    "model_static.add(MaxPooling1D(pool_size=2))\n",
    "model_static.add(Flatten())\n",
    "model_static.add(Dense(64, activation='relu'))\n",
    "model_static.add(Dense(3, activation='softmax'))\n",
    "print(model_static.summary())    \n"
   ]
  },
  {
   "cell_type": "code",
   "execution_count": 539,
   "metadata": {},
   "outputs": [],
   "source": [
    "# Compiling the model\n",
    "model_static.compile(loss='categorical_crossentropy',\n",
    "              optimizer='rmsprop',\n",
    "              metrics=['accuracy'])"
   ]
  },
  {
   "cell_type": "code",
   "execution_count": 540,
   "metadata": {},
   "outputs": [
    {
     "name": "stdout",
     "output_type": "stream",
     "text": [
      "Train on 4067 samples, validate on 1560 samples\n",
      "Epoch 1/50\n",
      "4067/4067 [==============================] - 4s 1ms/step - loss: 0.2592 - acc: 0.8800 - val_loss: 0.3110 - val_acc: 0.8718\n",
      "Epoch 2/50\n",
      "4067/4067 [==============================] - 2s 473us/step - loss: 0.2015 - acc: 0.9088 - val_loss: 0.3202 - val_acc: 0.9051\n",
      "Epoch 3/50\n",
      "4067/4067 [==============================] - 2s 475us/step - loss: 0.1964 - acc: 0.9179 - val_loss: 0.3530 - val_acc: 0.8724\n",
      "Epoch 4/50\n",
      "4067/4067 [==============================] - 2s 480us/step - loss: 0.1723 - acc: 0.9228 - val_loss: 0.3453 - val_acc: 0.8840\n",
      "Epoch 5/50\n",
      "4067/4067 [==============================] - 2s 481us/step - loss: 0.1564 - acc: 0.9287 - val_loss: 0.3922 - val_acc: 0.8737\n",
      "Epoch 6/50\n",
      "4067/4067 [==============================] - 2s 487us/step - loss: 0.1520 - acc: 0.9309 - val_loss: 0.4174 - val_acc: 0.8192\n",
      "Epoch 7/50\n",
      "4067/4067 [==============================] - 2s 475us/step - loss: 0.1387 - acc: 0.9375 - val_loss: 0.4016 - val_acc: 0.8750\n",
      "Epoch 8/50\n",
      "4067/4067 [==============================] - 2s 474us/step - loss: 0.1371 - acc: 0.9422 - val_loss: 0.4699 - val_acc: 0.8878\n",
      "Epoch 9/50\n",
      "4067/4067 [==============================] - 2s 496us/step - loss: 0.1228 - acc: 0.9452 - val_loss: 0.4714 - val_acc: 0.8859\n",
      "Epoch 10/50\n",
      "4067/4067 [==============================] - 2s 526us/step - loss: 0.1159 - acc: 0.9484 - val_loss: 0.4532 - val_acc: 0.8750\n",
      "Epoch 11/50\n",
      "4067/4067 [==============================] - 2s 474us/step - loss: 0.1091 - acc: 0.9516 - val_loss: 0.4790 - val_acc: 0.8712\n",
      "Epoch 12/50\n",
      "4067/4067 [==============================] - 2s 477us/step - loss: 0.1010 - acc: 0.9548 - val_loss: 0.4722 - val_acc: 0.8853\n",
      "Epoch 13/50\n",
      "4067/4067 [==============================] - 2s 492us/step - loss: 0.0947 - acc: 0.9592 - val_loss: 0.4617 - val_acc: 0.9058\n",
      "Epoch 14/50\n",
      "4067/4067 [==============================] - 2s 471us/step - loss: 0.0864 - acc: 0.9619 - val_loss: 0.4746 - val_acc: 0.8987\n",
      "Epoch 15/50\n",
      "4067/4067 [==============================] - 2s 483us/step - loss: 0.0822 - acc: 0.9641 - val_loss: 0.4142 - val_acc: 0.8910\n",
      "Epoch 16/50\n",
      "4067/4067 [==============================] - 2s 476us/step - loss: 0.0970 - acc: 0.9671 - val_loss: 0.4616 - val_acc: 0.9128\n",
      "Epoch 17/50\n",
      "4067/4067 [==============================] - 2s 470us/step - loss: 0.0731 - acc: 0.9673 - val_loss: 0.5333 - val_acc: 0.8910\n",
      "Epoch 18/50\n",
      "4067/4067 [==============================] - 2s 479us/step - loss: 0.0804 - acc: 0.9683 - val_loss: 0.4974 - val_acc: 0.8981\n",
      "Epoch 19/50\n",
      "4067/4067 [==============================] - 2s 476us/step - loss: 0.0663 - acc: 0.9732 - val_loss: 0.4813 - val_acc: 0.9045\n",
      "Epoch 20/50\n",
      "4067/4067 [==============================] - 2s 479us/step - loss: 0.0700 - acc: 0.9720 - val_loss: 0.5006 - val_acc: 0.8859\n",
      "Epoch 21/50\n",
      "4067/4067 [==============================] - 2s 473us/step - loss: 0.0506 - acc: 0.9789 - val_loss: 0.4638 - val_acc: 0.9077\n",
      "Epoch 22/50\n",
      "4067/4067 [==============================] - 2s 476us/step - loss: 0.0594 - acc: 0.9744 - val_loss: 0.4750 - val_acc: 0.9103\n",
      "Epoch 23/50\n",
      "4067/4067 [==============================] - 2s 505us/step - loss: 0.0553 - acc: 0.9766 - val_loss: 0.5165 - val_acc: 0.9160\n",
      "Epoch 24/50\n",
      "4067/4067 [==============================] - 2s 475us/step - loss: 0.0561 - acc: 0.9752 - val_loss: 0.5257 - val_acc: 0.9167\n",
      "Epoch 25/50\n",
      "4067/4067 [==============================] - 2s 472us/step - loss: 0.0511 - acc: 0.9781 - val_loss: 0.5241 - val_acc: 0.8917\n",
      "Epoch 26/50\n",
      "4067/4067 [==============================] - 2s 478us/step - loss: 0.0480 - acc: 0.9823 - val_loss: 0.5052 - val_acc: 0.9071\n",
      "Epoch 27/50\n",
      "4067/4067 [==============================] - 2s 500us/step - loss: 0.0553 - acc: 0.9830 - val_loss: 0.5476 - val_acc: 0.9090\n",
      "Epoch 28/50\n",
      "4067/4067 [==============================] - 2s 488us/step - loss: 0.0468 - acc: 0.9840 - val_loss: 0.5467 - val_acc: 0.9045\n",
      "Epoch 29/50\n",
      "4067/4067 [==============================] - 2s 470us/step - loss: 0.0377 - acc: 0.9867 - val_loss: 0.4818 - val_acc: 0.9250\n",
      "Epoch 30/50\n",
      "4067/4067 [==============================] - 2s 478us/step - loss: 0.0360 - acc: 0.9865 - val_loss: 0.5511 - val_acc: 0.9244\n",
      "Epoch 31/50\n",
      "4067/4067 [==============================] - 2s 491us/step - loss: 0.0371 - acc: 0.9867 - val_loss: 0.5509 - val_acc: 0.9154\n",
      "Epoch 32/50\n",
      "4067/4067 [==============================] - 2s 476us/step - loss: 0.0380 - acc: 0.9889 - val_loss: 0.5708 - val_acc: 0.8897\n",
      "Epoch 33/50\n",
      "4067/4067 [==============================] - 2s 487us/step - loss: 0.0329 - acc: 0.9887 - val_loss: 0.6179 - val_acc: 0.9167\n",
      "Epoch 34/50\n",
      "4067/4067 [==============================] - 2s 487us/step - loss: 0.0305 - acc: 0.9877 - val_loss: 0.5850 - val_acc: 0.9128\n",
      "Epoch 35/50\n",
      "4067/4067 [==============================] - 2s 474us/step - loss: 0.0330 - acc: 0.9892 - val_loss: 0.5552 - val_acc: 0.9205\n",
      "Epoch 36/50\n",
      "4067/4067 [==============================] - 2s 492us/step - loss: 0.0308 - acc: 0.9914 - val_loss: 0.5444 - val_acc: 0.9295\n",
      "Epoch 37/50\n",
      "4067/4067 [==============================] - 2s 490us/step - loss: 0.0271 - acc: 0.9909 - val_loss: 0.5325 - val_acc: 0.9179\n",
      "Epoch 38/50\n",
      "4067/4067 [==============================] - 2s 524us/step - loss: 0.0333 - acc: 0.9902 - val_loss: 0.5206 - val_acc: 0.9179\n",
      "Epoch 39/50\n",
      "4067/4067 [==============================] - 2s 553us/step - loss: 0.0403 - acc: 0.9907 - val_loss: 0.5986 - val_acc: 0.9090\n",
      "Epoch 40/50\n",
      "4067/4067 [==============================] - 2s 577us/step - loss: 0.0321 - acc: 0.9899 - val_loss: 0.5893 - val_acc: 0.9128\n",
      "Epoch 41/50\n",
      "4067/4067 [==============================] - 2s 537us/step - loss: 0.0263 - acc: 0.9904 - val_loss: 0.5411 - val_acc: 0.9263\n",
      "Epoch 42/50\n",
      "4067/4067 [==============================] - 2s 554us/step - loss: 0.0275 - acc: 0.9904 - val_loss: 0.5893 - val_acc: 0.9109\n",
      "Epoch 43/50\n",
      "4067/4067 [==============================] - 2s 518us/step - loss: 0.0307 - acc: 0.9904 - val_loss: 0.5970 - val_acc: 0.9122\n",
      "Epoch 44/50\n",
      "4067/4067 [==============================] - 2s 473us/step - loss: 0.0200 - acc: 0.9929 - val_loss: 0.5816 - val_acc: 0.9237\n",
      "Epoch 45/50\n",
      "4067/4067 [==============================] - 2s 496us/step - loss: 0.0221 - acc: 0.9939 - val_loss: 0.6133 - val_acc: 0.9032\n",
      "Epoch 46/50\n",
      "4067/4067 [==============================] - 2s 524us/step - loss: 0.0207 - acc: 0.9951 - val_loss: 0.5976 - val_acc: 0.9212\n",
      "Epoch 47/50\n",
      "4067/4067 [==============================] - 2s 554us/step - loss: 0.0216 - acc: 0.9919 - val_loss: 0.6262 - val_acc: 0.9064\n",
      "Epoch 48/50\n",
      "4067/4067 [==============================] - 2s 562us/step - loss: 0.0235 - acc: 0.9914 - val_loss: 0.5643 - val_acc: 0.9231\n",
      "Epoch 49/50\n",
      "4067/4067 [==============================] - 2s 530us/step - loss: 0.0160 - acc: 0.9936 - val_loss: 0.5862 - val_acc: 0.9154\n",
      "Epoch 50/50\n",
      "4067/4067 [==============================] - 2s 528us/step - loss: 0.0242 - acc: 0.9943 - val_loss: 0.5835 - val_acc: 0.9237\n"
     ]
    }
   ],
   "source": [
    "# Training the model\n",
    "history = model_static.fit(X_train_static,\n",
    "          Y_train_static,\n",
    "          batch_size=64,\n",
    "          validation_data=(X_test_static, Y_test_static),\n",
    "          epochs=50)"
   ]
  },
  {
   "cell_type": "markdown",
   "metadata": {},
   "source": [
    "__we are getting test accuracy above 92% for static__"
   ]
  },
  {
   "cell_type": "markdown",
   "metadata": {},
   "source": [
    "<h1>CLASSIFY WITHING DYNAMIC</h1>"
   ]
  },
  {
   "cell_type": "code",
   "execution_count": 541,
   "metadata": {},
   "outputs": [
    {
     "name": "stdout",
     "output_type": "stream",
     "text": [
      "_________________________________________________________________\n",
      "Layer (type)                 Output Shape              Param #   \n",
      "=================================================================\n",
      "conv1d_49 (Conv1D)           (None, 122, 100)          6400      \n",
      "_________________________________________________________________\n",
      "dropout_31 (Dropout)         (None, 122, 100)          0         \n",
      "_________________________________________________________________\n",
      "max_pooling1d_30 (MaxPooling (None, 40, 100)           0         \n",
      "_________________________________________________________________\n",
      "flatten_30 (Flatten)         (None, 4000)              0         \n",
      "_________________________________________________________________\n",
      "dense_61 (Dense)             (None, 50)                200050    \n",
      "_________________________________________________________________\n",
      "dense_62 (Dense)             (None, 3)                 153       \n",
      "=================================================================\n",
      "Total params: 206,603\n",
      "Trainable params: 206,603\n",
      "Non-trainable params: 0\n",
      "_________________________________________________________________\n"
     ]
    }
   ],
   "source": [
    "model_dynamic = Sequential()\n",
    "model_dynamic.add(Conv1D(filters=100, kernel_size=7, activation='relu',kernel_regularizer = regularizers.l2(0.007),input_shape=(128,9)))\n",
    "model_dynamic.add(Dropout(0.7))\n",
    "model_dynamic.add(MaxPooling1D(pool_size=3))\n",
    "model_dynamic.add(Flatten())\n",
    "model_dynamic.add(Dense(50, activation='relu'))\n",
    "model_dynamic.add(Dense(3, activation='softmax'))\n",
    "model_dynamic.summary()"
   ]
  },
  {
   "cell_type": "code",
   "execution_count": 542,
   "metadata": {},
   "outputs": [],
   "source": [
    "# Compiling the model\n",
    "model_dynamic.compile(loss='categorical_crossentropy',\n",
    "              optimizer='rmsprop',\n",
    "              metrics=['accuracy'])"
   ]
  },
  {
   "cell_type": "code",
   "execution_count": 543,
   "metadata": {},
   "outputs": [
    {
     "name": "stdout",
     "output_type": "stream",
     "text": [
      "Train on 3285 samples, validate on 1387 samples\n",
      "Epoch 1/30\n",
      "3285/3285 [==============================] - 6s 2ms/step - loss: 0.6818 - acc: 0.7973 - val_loss: 0.3798 - val_acc: 0.9315\n",
      "Epoch 2/30\n",
      "3285/3285 [==============================] - 4s 1ms/step - loss: 0.1528 - acc: 0.9805 - val_loss: 0.2361 - val_acc: 0.9524\n",
      "Epoch 3/30\n",
      "3285/3285 [==============================] - 4s 1ms/step - loss: 0.1058 - acc: 0.9927 - val_loss: 0.2766 - val_acc: 0.9445\n",
      "Epoch 4/30\n",
      "3285/3285 [==============================] - 4s 1ms/step - loss: 0.0923 - acc: 0.9924 - val_loss: 0.3321 - val_acc: 0.9503\n",
      "Epoch 5/30\n",
      "3285/3285 [==============================] - 3s 1ms/step - loss: 0.0736 - acc: 0.9960 - val_loss: 0.2181 - val_acc: 0.9603\n",
      "Epoch 6/30\n",
      "3285/3285 [==============================] - 4s 1ms/step - loss: 0.0534 - acc: 0.9976 - val_loss: 0.1871 - val_acc: 0.9553\n",
      "Epoch 7/30\n",
      "3285/3285 [==============================] - 4s 1ms/step - loss: 0.0427 - acc: 0.9951 - val_loss: 0.5911 - val_acc: 0.8789\n",
      "Epoch 8/30\n",
      "3285/3285 [==============================] - 4s 1ms/step - loss: 0.0340 - acc: 0.9976 - val_loss: 0.2288 - val_acc: 0.9423\n",
      "Epoch 9/30\n",
      "3285/3285 [==============================] - 4s 1ms/step - loss: 0.0362 - acc: 0.9945 - val_loss: 0.1284 - val_acc: 0.9560\n",
      "Epoch 10/30\n",
      "3285/3285 [==============================] - 4s 1ms/step - loss: 0.0332 - acc: 0.9967 - val_loss: 0.1905 - val_acc: 0.9510\n",
      "Epoch 11/30\n",
      "3285/3285 [==============================] - 4s 1ms/step - loss: 0.0373 - acc: 0.9936 - val_loss: 0.1914 - val_acc: 0.9531\n",
      "Epoch 12/30\n",
      "3285/3285 [==============================] - 4s 1ms/step - loss: 0.0485 - acc: 0.9930 - val_loss: 0.1776 - val_acc: 0.9546\n",
      "Epoch 13/30\n",
      "3285/3285 [==============================] - 4s 1ms/step - loss: 0.0327 - acc: 0.9945 - val_loss: 0.2355 - val_acc: 0.9531\n",
      "Epoch 14/30\n",
      "3285/3285 [==============================] - 4s 1ms/step - loss: 0.0281 - acc: 0.9945 - val_loss: 0.1795 - val_acc: 0.9553\n",
      "Epoch 15/30\n",
      "3285/3285 [==============================] - 4s 1ms/step - loss: 0.0202 - acc: 0.9979 - val_loss: 0.2152 - val_acc: 0.9495\n",
      "Epoch 16/30\n",
      "3285/3285 [==============================] - 4s 1ms/step - loss: 0.0233 - acc: 0.9957 - val_loss: 0.1861 - val_acc: 0.9603\n",
      "Epoch 17/30\n",
      "3285/3285 [==============================] - 4s 1ms/step - loss: 0.0318 - acc: 0.9945 - val_loss: 0.1658 - val_acc: 0.9560\n",
      "Epoch 18/30\n",
      "3285/3285 [==============================] - 4s 1ms/step - loss: 0.0249 - acc: 0.9967 - val_loss: 0.1372 - val_acc: 0.9503\n",
      "Epoch 19/30\n",
      "3285/3285 [==============================] - 4s 1ms/step - loss: 0.0231 - acc: 0.9970 - val_loss: 0.1857 - val_acc: 0.9582\n",
      "Epoch 20/30\n",
      "3285/3285 [==============================] - 4s 1ms/step - loss: 0.0182 - acc: 0.9970 - val_loss: 0.2907 - val_acc: 0.9438\n",
      "Epoch 21/30\n",
      "3285/3285 [==============================] - 4s 1ms/step - loss: 0.0249 - acc: 0.9951 - val_loss: 0.2793 - val_acc: 0.9423\n",
      "Epoch 22/30\n",
      "3285/3285 [==============================] - 4s 1ms/step - loss: 0.0240 - acc: 0.9960 - val_loss: 0.2258 - val_acc: 0.9553\n",
      "Epoch 23/30\n",
      "3285/3285 [==============================] - 4s 1ms/step - loss: 0.0255 - acc: 0.9948 - val_loss: 0.1771 - val_acc: 0.9575\n",
      "Epoch 24/30\n",
      "3285/3285 [==============================] - 4s 1ms/step - loss: 0.0161 - acc: 0.9976 - val_loss: 0.1921 - val_acc: 0.9488\n",
      "Epoch 25/30\n",
      "3285/3285 [==============================] - 4s 1ms/step - loss: 0.0233 - acc: 0.9957 - val_loss: 0.1853 - val_acc: 0.9402\n",
      "Epoch 26/30\n",
      "3285/3285 [==============================] - 4s 1ms/step - loss: 0.0173 - acc: 0.9973 - val_loss: 0.1882 - val_acc: 0.9495\n",
      "Epoch 27/30\n",
      "3285/3285 [==============================] - 4s 1ms/step - loss: 0.0191 - acc: 0.9951 - val_loss: 0.2008 - val_acc: 0.9452\n",
      "Epoch 28/30\n",
      "3285/3285 [==============================] - 4s 1ms/step - loss: 0.0324 - acc: 0.9942 - val_loss: 0.2295 - val_acc: 0.9495\n",
      "Epoch 29/30\n",
      "3285/3285 [==============================] - 4s 1ms/step - loss: 0.0192 - acc: 0.9976 - val_loss: 0.1740 - val_acc: 0.9531\n",
      "Epoch 30/30\n",
      "3285/3285 [==============================] - 4s 1ms/step - loss: 0.0135 - acc: 0.9973 - val_loss: 0.2115 - val_acc: 0.9517\n"
     ]
    }
   ],
   "source": [
    "# Training the model\n",
    "history = model_dynamic.fit(X_train_dynamic,\n",
    "          Y_train_dynamic,\n",
    "          batch_size=30,\n",
    "          validation_data=(X_test_dynamic, Y_test_dynamic),\n",
    "          epochs=30)"
   ]
  },
  {
   "cell_type": "markdown",
   "metadata": {},
   "source": [
    "__we are getting test accuracy 95% for dynamic__"
   ]
  },
  {
   "cell_type": "code",
   "execution_count": 544,
   "metadata": {},
   "outputs": [],
   "source": [
    "from sklearn.metrics import accuracy_score"
   ]
  },
  {
   "cell_type": "code",
   "execution_count": 545,
   "metadata": {},
   "outputs": [],
   "source": [
    "def load_y(subset):\n",
    "        \"\"\"\n",
    "        The objective that we are trying to predict is a integer, from 1 to 6,\n",
    "        that represents a human activity. We return a binary representation of \n",
    "        every sample objective as a 6 bits vector using One Hot Encoding\n",
    "        (https://pandas.pydata.org/pandas-docs/stable/generated/pandas.get_dummies.html)\n",
    "        \"\"\"\n",
    "        filename = f'UCI_HAR_Dataset/{subset}/y_{subset}.txt'\n",
    "        y = _read_csv(filename)[0]\n",
    "        return y\n"
   ]
  },
  {
   "cell_type": "code",
   "execution_count": 546,
   "metadata": {},
   "outputs": [],
   "source": [
    "Y_train,Y_test= load_y('train'), load_y('test')\n",
    "X_train, X_test = load_signals_train(), load_signals_test()"
   ]
  },
  {
   "cell_type": "code",
   "execution_count": 547,
   "metadata": {},
   "outputs": [],
   "source": [
    "def final_predict(data):\n",
    "    class_pred = model_half.predict(data) #classify of static and dynamic\n",
    "    prob_compare =  np.argmax(class_pred, axis=1) #return  index value of max probale class\n",
    "    # prob_compare will have values of 0 and 1. 0 = Dynamic , 1 =  Static\n",
    "    # send dynamic predicted label to dynamic classifier\n",
    "    # send static predicted label to static classifier\n",
    "    dynamic_data = data[prob_compare==0] #Dynamic data\n",
    "    dynamic_pred = model_dynamic.predict(dynamic_data) #predicting label with dynamic classifier\n",
    "    dynamic_label_pred = np.argmax(dynamic_pred,axis=1) #taking index of max probale class\n",
    "    # dynamic_label_pred contains index of max probable class i.e 0,1 or 2\n",
    "    # But our actual classes are 1,2 and 3.\n",
    "    # So adding 1 to the predicted class to get actual class labels\n",
    "    dynamic_ACTUALlabel_pred = dynamic_label_pred + 1\n",
    "   \n",
    "    static_data = data[prob_compare==1] #static data\n",
    "    static_pred = model_static.predict(static_data) #predicting label with static classifier\n",
    "    static_label_pred = np.argmax(static_pred,axis=1) #taking index of max probale class\n",
    "    # static_label_pred contains index of max probable class i.e 0,1 or 2\n",
    "    # But our actual classes are 4,5 and 6.\n",
    "    # So adding 4 to the predicted class to get actual class labels\n",
    "    static_ACTUALlabel_pred = static_label_pred + 4\n",
    "    \n",
    "    # Now we got prediction for static and dynamic data\n",
    "    # But we need in combine format\n",
    "    \n",
    "    static,dynamic = 0,0 \n",
    "    final_prediction = []\n",
    "    for class_2 in prob_compare:\n",
    "        if class_2 == 0:\n",
    "            final_prediction.append(dynamic_ACTUALlabel_pred[dynamic])\n",
    "            dynamic = dynamic + 1\n",
    "        else:\n",
    "            final_prediction.append(static_ACTUALlabel_pred[static])\n",
    "            static = static + 1 \n",
    "    return final_prediction\n",
    "  "
   ]
  },
  {
   "cell_type": "code",
   "execution_count": 548,
   "metadata": {},
   "outputs": [],
   "source": [
    "import matplotlib.pyplot as plt\n",
    "from sklearn.metrics import confusion_matrix as cm\n",
    "import seaborn as sns"
   ]
  },
  {
   "cell_type": "code",
   "execution_count": 549,
   "metadata": {},
   "outputs": [],
   "source": [
    "def plot_confusion_matrix(test_y, predict_y):\n",
    "    C = cm(test_y, predict_y)\n",
    "    # C = 9,9 matrix, each cell (i,j) represents number of points of class i are predicted class j\n",
    "    \n",
    "    A =(((C.T)/(C.sum(axis=1))).T)\n",
    "    #divid each element of the confusion matrix with the sum of elements in that column\n",
    "    \n",
    "    # C = [[1, 2],\n",
    "    #     [3, 4]]\n",
    "    # C.T = [[1, 3],\n",
    "    #        [2, 4]]\n",
    "    # C.sum(axis = 1)  axis=0 corresonds to columns and axis=1 corresponds to rows in two diamensional array\n",
    "    # C.sum(axix =1) = [[3, 7]]\n",
    "    # ((C.T)/(C.sum(axis=1))) = [[1/3, 3/7]\n",
    "    #                           [2/3, 4/7]]\n",
    "\n",
    "    # ((C.T)/(C.sum(axis=1))).T = [[1/3, 2/3]\n",
    "    #                           [3/7, 4/7]]\n",
    "    # sum of row elements = 1\n",
    "    \n",
    "    B =(C/C.sum(axis=0))\n",
    "    #divid each element of the confusion matrix with the sum of elements in that row\n",
    "    # C = [[1, 2],\n",
    "    #     [3, 4]]\n",
    "    # C.sum(axis = 0)  axis=0 corresonds to columns and axis=1 corresponds to rows in two diamensional array\n",
    "    # C.sum(axix =0) = [[4, 6]]\n",
    "    # (C/C.sum(axis=0)) = [[1/4, 2/6],\n",
    "    #                      [3/4, 4/6]] \n",
    "    \n",
    "    labels =[ 'WALKING',\n",
    "    'WALKING_UPSTAIRS',\n",
    "    'WALKING_DOWNSTAIRS',\n",
    "    'SITTING',\n",
    "    'STANDING',\n",
    "    'LAYING']\n",
    "    # representing A in heatmap format\n",
    "    print(\"-\"*20, \"Confusion matrix\", \"-\"*20)\n",
    "    plt.figure(figsize=(20,7))\n",
    "    sns.heatmap(C, annot=True, cmap=\"YlGnBu\", fmt=\".3f\", xticklabels=labels, yticklabels=labels)\n",
    "    plt.xlabel('Predicted Class')\n",
    "    plt.ylabel('Original Class')\n",
    "    plt.show()\n",
    "\n",
    "    print(\"-\"*20, \"Precision matrix (Columm Sum=1)\", \"-\"*20)\n",
    "    plt.figure(figsize=(20,7))\n",
    "    sns.heatmap(B, annot=True, cmap=\"YlGnBu\", fmt=\".3f\", xticklabels=labels, yticklabels=labels)\n",
    "    plt.xlabel('Predicted Class')\n",
    "    plt.ylabel('Original Class')\n",
    "    plt.show()\n",
    "    \n",
    "    # representing B in heatmap format\n",
    "    print(\"-\"*20, \"Recall matrix (Row sum=1)\", \"-\"*20)\n",
    "    plt.figure(figsize=(20,7))\n",
    "    sns.heatmap(A, annot=True, cmap=\"YlGnBu\", fmt=\".3f\", xticklabels=labels, yticklabels=labels)\n",
    "    plt.xlabel('Predicted Class')\n",
    "    plt.ylabel('Original Class')\n",
    "    plt.show()"
   ]
  },
  {
   "cell_type": "code",
   "execution_count": 632,
   "metadata": {},
   "outputs": [
    {
     "name": "stdout",
     "output_type": "stream",
     "text": [
      "Train data Accuracy 0.9885919477693145\n",
      "Test data Accuracy 0.9471007804546997\n"
     ]
    }
   ],
   "source": [
    "train_pred = final_predict(X_train)\n",
    "print('Train data Accuracy',accuracy_score(Y_train,train_pred))\n",
    "test_pred = final_predict(X_test)\n",
    "print('Test data Accuracy',accuracy_score(Y_test,test_pred))"
   ]
  },
  {
   "cell_type": "code",
   "execution_count": 555,
   "metadata": {},
   "outputs": [
    {
     "name": "stdout",
     "output_type": "stream",
     "text": [
      "confusion matrix of train data\n",
      "-------------------- Confusion matrix --------------------\n"
     ]
    },
    {
     "data": {
      "image/png": "[encoded data removed]",
      "text/plain": [
       "<Figure size 1440x504 with 2 Axes>"
      ]
     },
     "metadata": {},
     "output_type": "display_data"
    },
    {
     "name": "stdout",
     "output_type": "stream",
     "text": [
      "-------------------- Precision matrix (Columm Sum=1) --------------------\n"
     ]
    },
    {
     "data": {
      "image/png": "[encoded data removed]",
      "text/plain": [
       "<Figure size 1440x504 with 2 Axes>"
      ]
     },
     "metadata": {},
     "output_type": "display_data"
    },
    {
     "name": "stdout",
     "output_type": "stream",
     "text": [
      "-------------------- Recall matrix (Row sum=1) --------------------\n"
     ]
    },
    {
     "data": {
      "image/png": "[encoded data removed]",
      "text/plain": [
       "<Figure size 1440x504 with 2 Axes>"
      ]
     },
     "metadata": {},
     "output_type": "display_data"
    }
   ],
   "source": [
    "print(\"confusion matrix of train data\")\n",
    "plot_confusion_matrix(Y_test,test_pred)"
   ]
  },
  {
   "cell_type": "markdown",
   "metadata": {},
   "source": [
    "__from the heat map observation You can see that Divide and Conquer technique works very well__"
   ]
  },
  {
   "cell_type": "code",
   "execution_count": 629,
   "metadata": {},
   "outputs": [],
   "source": [
    "from prettytable import PrettyTable\n",
    "x = PrettyTable()\n",
    "x.field_names = [\"Models\",\"Test auc\",'test loss']\n",
    "x.add_row([\"with no of LSTM layers 256\",\"0.917\",\"0.418\"])\n",
    "x.add_row([\"by trying CNN architecture\",\"0.9199\",\"0.55\"])\n",
    "x.add_row([\"by adding two lstm layers\",\"0.914\",\"0.35\"])\n",
    "x.add_row([\"by DIVIDE AND CONQUER METHOD\",\"0.9471\",\"--\"])"
   ]
  },
  {
   "cell_type": "code",
   "execution_count": 630,
   "metadata": {},
   "outputs": [
    {
     "name": "stdout",
     "output_type": "stream",
     "text": [
      "+------------------------------+----------+-----------+\n",
      "|            Models            | Test auc | test loss |\n",
      "+------------------------------+----------+-----------+\n",
      "|  with no of LSTM layers 256  |  0.917   |   0.418   |\n",
      "|  by trying CNN architecture  |  0.9199  |    0.55   |\n",
      "|  by adding two lstm layers   |  0.914   |    0.35   |\n",
      "| by DIVIDE AND CONQUER METHOD |  0.9471  |     --    |\n",
      "+------------------------------+----------+-----------+\n"
     ]
    }
   ],
   "source": [
    "print(x)"
   ]
  },
  {
   "cell_type": "markdown",
   "metadata": {},
   "source": [
    "__I follow the research paper architecture if you want to improve the accuracy more try hyperparameter tunning<br>\n",
    "of deep learning which will improve accuracy maybe 1 or 2 percent__"
   ]
  },
  {
   "cell_type": "markdown",
   "metadata": {},
   "source": [
    "__END__"
   ]
  },
  {
   "cell_type": "code",
   "execution_count": null,
   "metadata": {},
   "outputs": [],
   "source": []
  }
 ],
 "metadata": {
  "kernelspec": {
   "display_name": "Python 3",
   "language": "python",
   "name": "python3"
  },
  "language_info": {
   "codemirror_mode": {
    "name": "ipython",
    "version": 3
   },
   "file_extension": ".py",
   "mimetype": "text/x-python",
   "name": "python",
   "nbconvert_exporter": "python",
   "pygments_lexer": "ipython3",
   "version": "3.6.5"
  }
 },
 "nbformat": 4,
 "nbformat_minor": 2
}
